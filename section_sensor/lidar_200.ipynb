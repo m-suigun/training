{
 "cells": [
  {
   "cell_type": "code",
   "execution_count": 1,
   "metadata": {},
   "outputs": [],
   "source": [
    "%config IPCompleter.greedy=True"
   ]
  },
  {
   "cell_type": "code",
   "execution_count": 2,
   "metadata": {},
   "outputs": [
    {
     "output_type": "execute_result",
     "data": {
      "text/plain": "           date    time   ir  lidar\n0      20180122   95819  305    214\n1      20180122   95822  299    211\n2      20180122   95826  292    199\n3      20180122   95829  321    208\n4      20180122   95832  298    212\n5      20180122   95835  327    212\n6      20180122   95838  293    215\n7      20180122   95840  309    218\n8      20180122   95843  323    208\n9      20180122   95846  292    217\n10     20180122   95850  294    215\n11     20180122   95852  323    218\n12     20180122   95856  319    218\n13     20180122   95858  313    214\n14     20180122   95902  298    209\n15     20180122   95905  296    211\n16     20180122   95908  294    210\n17     20180122   95911  314    215\n18     20180122   95914  300    212\n19     20180122   95917  324    219\n20     20180122   95920  295    220\n21     20180122   95922  320    214\n22     20180122   95925  302    211\n23     20180122   95928  303    215\n24     20180122   95932  297    215\n25     20180122   95934  306    210\n26     20180122   95937  302    217\n27     20180122   95940  296    215\n28     20180122   95943  308    213\n29     20180122   95947  303    211\n...         ...     ...  ...    ...\n58958  20180124  115907  297    210\n58959  20180124  115910  320    204\n58960  20180124  115914  324    205\n58961  20180124  115917  302    199\n58962  20180124  115919  299    203\n58963  20180124  115923  298    206\n58964  20180124  115925  301    206\n58965  20180124  115929  321    206\n58966  20180124  115932  319    209\n58967  20180124  115935  311    208\n58968  20180124  115938  326    204\n58969  20180124  115941  319    206\n58970  20180124  115944  303    201\n58971  20180124  115947  323    203\n58972  20180124  115950  302    205\n58973  20180124  115953  314    202\n58974  20180124  115956  326    204\n58975  20180124  115959  308    201\n58976  20180124  120002  302    209\n58977  20180124  120005  303    207\n58978  20180124  120009  310    206\n58979  20180124  120012  330    208\n58980  20180124  120015  305    205\n58981  20180124  120018  301    202\n58982  20180124  120021  320    206\n58983  20180124  120023  313    208\n58984  20180124  120026  297    200\n58985  20180124  120030  323    204\n58986  20180124  120033  326    207\n58987  20180124  120036  321    208\n\n[58988 rows x 4 columns]",
      "text/html": "<div>\n<style scoped>\n    .dataframe tbody tr th:only-of-type {\n        vertical-align: middle;\n    }\n\n    .dataframe tbody tr th {\n        vertical-align: top;\n    }\n\n    .dataframe thead th {\n        text-align: right;\n    }\n</style>\n<table border=\"1\" class=\"dataframe\">\n  <thead>\n    <tr style=\"text-align: right;\">\n      <th></th>\n      <th>date</th>\n      <th>time</th>\n      <th>ir</th>\n      <th>lidar</th>\n    </tr>\n  </thead>\n  <tbody>\n    <tr>\n      <th>0</th>\n      <td>20180122</td>\n      <td>95819</td>\n      <td>305</td>\n      <td>214</td>\n    </tr>\n    <tr>\n      <th>1</th>\n      <td>20180122</td>\n      <td>95822</td>\n      <td>299</td>\n      <td>211</td>\n    </tr>\n    <tr>\n      <th>2</th>\n      <td>20180122</td>\n      <td>95826</td>\n      <td>292</td>\n      <td>199</td>\n    </tr>\n    <tr>\n      <th>3</th>\n      <td>20180122</td>\n      <td>95829</td>\n      <td>321</td>\n      <td>208</td>\n    </tr>\n    <tr>\n      <th>4</th>\n      <td>20180122</td>\n      <td>95832</td>\n      <td>298</td>\n      <td>212</td>\n    </tr>\n    <tr>\n      <th>5</th>\n      <td>20180122</td>\n      <td>95835</td>\n      <td>327</td>\n      <td>212</td>\n    </tr>\n    <tr>\n      <th>6</th>\n      <td>20180122</td>\n      <td>95838</td>\n      <td>293</td>\n      <td>215</td>\n    </tr>\n    <tr>\n      <th>7</th>\n      <td>20180122</td>\n      <td>95840</td>\n      <td>309</td>\n      <td>218</td>\n    </tr>\n    <tr>\n      <th>8</th>\n      <td>20180122</td>\n      <td>95843</td>\n      <td>323</td>\n      <td>208</td>\n    </tr>\n    <tr>\n      <th>9</th>\n      <td>20180122</td>\n      <td>95846</td>\n      <td>292</td>\n      <td>217</td>\n    </tr>\n    <tr>\n      <th>10</th>\n      <td>20180122</td>\n      <td>95850</td>\n      <td>294</td>\n      <td>215</td>\n    </tr>\n    <tr>\n      <th>11</th>\n      <td>20180122</td>\n      <td>95852</td>\n      <td>323</td>\n      <td>218</td>\n    </tr>\n    <tr>\n      <th>12</th>\n      <td>20180122</td>\n      <td>95856</td>\n      <td>319</td>\n      <td>218</td>\n    </tr>\n    <tr>\n      <th>13</th>\n      <td>20180122</td>\n      <td>95858</td>\n      <td>313</td>\n      <td>214</td>\n    </tr>\n    <tr>\n      <th>14</th>\n      <td>20180122</td>\n      <td>95902</td>\n      <td>298</td>\n      <td>209</td>\n    </tr>\n    <tr>\n      <th>15</th>\n      <td>20180122</td>\n      <td>95905</td>\n      <td>296</td>\n      <td>211</td>\n    </tr>\n    <tr>\n      <th>16</th>\n      <td>20180122</td>\n      <td>95908</td>\n      <td>294</td>\n      <td>210</td>\n    </tr>\n    <tr>\n      <th>17</th>\n      <td>20180122</td>\n      <td>95911</td>\n      <td>314</td>\n      <td>215</td>\n    </tr>\n    <tr>\n      <th>18</th>\n      <td>20180122</td>\n      <td>95914</td>\n      <td>300</td>\n      <td>212</td>\n    </tr>\n    <tr>\n      <th>19</th>\n      <td>20180122</td>\n      <td>95917</td>\n      <td>324</td>\n      <td>219</td>\n    </tr>\n    <tr>\n      <th>20</th>\n      <td>20180122</td>\n      <td>95920</td>\n      <td>295</td>\n      <td>220</td>\n    </tr>\n    <tr>\n      <th>21</th>\n      <td>20180122</td>\n      <td>95922</td>\n      <td>320</td>\n      <td>214</td>\n    </tr>\n    <tr>\n      <th>22</th>\n      <td>20180122</td>\n      <td>95925</td>\n      <td>302</td>\n      <td>211</td>\n    </tr>\n    <tr>\n      <th>23</th>\n      <td>20180122</td>\n      <td>95928</td>\n      <td>303</td>\n      <td>215</td>\n    </tr>\n    <tr>\n      <th>24</th>\n      <td>20180122</td>\n      <td>95932</td>\n      <td>297</td>\n      <td>215</td>\n    </tr>\n    <tr>\n      <th>25</th>\n      <td>20180122</td>\n      <td>95934</td>\n      <td>306</td>\n      <td>210</td>\n    </tr>\n    <tr>\n      <th>26</th>\n      <td>20180122</td>\n      <td>95937</td>\n      <td>302</td>\n      <td>217</td>\n    </tr>\n    <tr>\n      <th>27</th>\n      <td>20180122</td>\n      <td>95940</td>\n      <td>296</td>\n      <td>215</td>\n    </tr>\n    <tr>\n      <th>28</th>\n      <td>20180122</td>\n      <td>95943</td>\n      <td>308</td>\n      <td>213</td>\n    </tr>\n    <tr>\n      <th>29</th>\n      <td>20180122</td>\n      <td>95947</td>\n      <td>303</td>\n      <td>211</td>\n    </tr>\n    <tr>\n      <th>...</th>\n      <td>...</td>\n      <td>...</td>\n      <td>...</td>\n      <td>...</td>\n    </tr>\n    <tr>\n      <th>58958</th>\n      <td>20180124</td>\n      <td>115907</td>\n      <td>297</td>\n      <td>210</td>\n    </tr>\n    <tr>\n      <th>58959</th>\n      <td>20180124</td>\n      <td>115910</td>\n      <td>320</td>\n      <td>204</td>\n    </tr>\n    <tr>\n      <th>58960</th>\n      <td>20180124</td>\n      <td>115914</td>\n      <td>324</td>\n      <td>205</td>\n    </tr>\n    <tr>\n      <th>58961</th>\n      <td>20180124</td>\n      <td>115917</td>\n      <td>302</td>\n      <td>199</td>\n    </tr>\n    <tr>\n      <th>58962</th>\n      <td>20180124</td>\n      <td>115919</td>\n      <td>299</td>\n      <td>203</td>\n    </tr>\n    <tr>\n      <th>58963</th>\n      <td>20180124</td>\n      <td>115923</td>\n      <td>298</td>\n      <td>206</td>\n    </tr>\n    <tr>\n      <th>58964</th>\n      <td>20180124</td>\n      <td>115925</td>\n      <td>301</td>\n      <td>206</td>\n    </tr>\n    <tr>\n      <th>58965</th>\n      <td>20180124</td>\n      <td>115929</td>\n      <td>321</td>\n      <td>206</td>\n    </tr>\n    <tr>\n      <th>58966</th>\n      <td>20180124</td>\n      <td>115932</td>\n      <td>319</td>\n      <td>209</td>\n    </tr>\n    <tr>\n      <th>58967</th>\n      <td>20180124</td>\n      <td>115935</td>\n      <td>311</td>\n      <td>208</td>\n    </tr>\n    <tr>\n      <th>58968</th>\n      <td>20180124</td>\n      <td>115938</td>\n      <td>326</td>\n      <td>204</td>\n    </tr>\n    <tr>\n      <th>58969</th>\n      <td>20180124</td>\n      <td>115941</td>\n      <td>319</td>\n      <td>206</td>\n    </tr>\n    <tr>\n      <th>58970</th>\n      <td>20180124</td>\n      <td>115944</td>\n      <td>303</td>\n      <td>201</td>\n    </tr>\n    <tr>\n      <th>58971</th>\n      <td>20180124</td>\n      <td>115947</td>\n      <td>323</td>\n      <td>203</td>\n    </tr>\n    <tr>\n      <th>58972</th>\n      <td>20180124</td>\n      <td>115950</td>\n      <td>302</td>\n      <td>205</td>\n    </tr>\n    <tr>\n      <th>58973</th>\n      <td>20180124</td>\n      <td>115953</td>\n      <td>314</td>\n      <td>202</td>\n    </tr>\n    <tr>\n      <th>58974</th>\n      <td>20180124</td>\n      <td>115956</td>\n      <td>326</td>\n      <td>204</td>\n    </tr>\n    <tr>\n      <th>58975</th>\n      <td>20180124</td>\n      <td>115959</td>\n      <td>308</td>\n      <td>201</td>\n    </tr>\n    <tr>\n      <th>58976</th>\n      <td>20180124</td>\n      <td>120002</td>\n      <td>302</td>\n      <td>209</td>\n    </tr>\n    <tr>\n      <th>58977</th>\n      <td>20180124</td>\n      <td>120005</td>\n      <td>303</td>\n      <td>207</td>\n    </tr>\n    <tr>\n      <th>58978</th>\n      <td>20180124</td>\n      <td>120009</td>\n      <td>310</td>\n      <td>206</td>\n    </tr>\n    <tr>\n      <th>58979</th>\n      <td>20180124</td>\n      <td>120012</td>\n      <td>330</td>\n      <td>208</td>\n    </tr>\n    <tr>\n      <th>58980</th>\n      <td>20180124</td>\n      <td>120015</td>\n      <td>305</td>\n      <td>205</td>\n    </tr>\n    <tr>\n      <th>58981</th>\n      <td>20180124</td>\n      <td>120018</td>\n      <td>301</td>\n      <td>202</td>\n    </tr>\n    <tr>\n      <th>58982</th>\n      <td>20180124</td>\n      <td>120021</td>\n      <td>320</td>\n      <td>206</td>\n    </tr>\n    <tr>\n      <th>58983</th>\n      <td>20180124</td>\n      <td>120023</td>\n      <td>313</td>\n      <td>208</td>\n    </tr>\n    <tr>\n      <th>58984</th>\n      <td>20180124</td>\n      <td>120026</td>\n      <td>297</td>\n      <td>200</td>\n    </tr>\n    <tr>\n      <th>58985</th>\n      <td>20180124</td>\n      <td>120030</td>\n      <td>323</td>\n      <td>204</td>\n    </tr>\n    <tr>\n      <th>58986</th>\n      <td>20180124</td>\n      <td>120033</td>\n      <td>326</td>\n      <td>207</td>\n    </tr>\n    <tr>\n      <th>58987</th>\n      <td>20180124</td>\n      <td>120036</td>\n      <td>321</td>\n      <td>208</td>\n    </tr>\n  </tbody>\n</table>\n<p>58988 rows × 4 columns</p>\n</div>"
     },
     "metadata": {},
     "execution_count": 2
    }
   ],
   "source": [
    "import pandas as pd\n",
    "\n",
    "data = pd.read_csv(\"sensor_data_200.txt\", delimiter=\" \", header=None, names=(\"date\", \"time\", \"ir\", \"lidar\"))\n",
    "data"
   ]
  },
  {
   "cell_type": "code",
   "execution_count": 3,
   "metadata": {},
   "outputs": [
    {
     "output_type": "stream",
     "name": "stdout",
     "text": "0    214\n1    211\n2    199\n3    208\n4    212\nName: lidar, dtype: int64\n"
    }
   ],
   "source": [
    "print(data[\"lidar\"][0:5])"
   ]
  },
  {
   "cell_type": "code",
   "execution_count": 4,
   "metadata": {},
   "outputs": [
    {
     "output_type": "display_data",
     "data": {
      "text/plain": "<Figure size 640x480 with 1 Axes>"
     },
     "metadata": {}
    }
   ],
   "source": [
    "import matplotlib.pyplot as plt\n",
    "data[\"lidar\"].hist(bins=max(data[\"lidar\"])-min(data[\"lidar\"]), align=\"left\")\n",
    "plt.show()"
   ]
  },
  {
   "cell_type": "code",
   "execution_count": 5,
   "metadata": {},
   "outputs": [
    {
     "output_type": "stream",
     "name": "stdout",
     "text": "209.737132976 209.73713297619855\n"
    }
   ],
   "source": [
    "mean1 = sum(data[\"lidar\"].values)/len(data[\"lidar\"].values)\n",
    "mean2 = data[\"lidar\"].mean()\n",
    "print(mean1, mean2)"
   ]
  },
  {
   "cell_type": "code",
   "execution_count": 6,
   "metadata": {},
   "outputs": [
    {
     "output_type": "display_data",
     "data": {
      "text/plain": "<Figure size 432x288 with 1 Axes>",
      "image/png": "[encoded data removed]"
     },
     "metadata": {}
    }
   ],
   "source": [
    "data[\"lidar\"].hist(bins=max(data[\"lidar\"])-min(data[\"lidar\"]), color=\"orange\", align=\"left\")\n",
    "plt.vlines(mean1, ymin=0, ymax=5000, color=\"red\")\n",
    "plt.vlines(mean1+data[\"lidar\"].std() , ymin=0, ymax=5000, color=\"blue\")\n",
    "plt.vlines(mean1-data[\"lidar\"].std(), ymin=0, ymax=5000, color=\"blue\")\n",
    "plt.show()"
   ]
  },
  {
   "cell_type": "code",
   "execution_count": 7,
   "metadata": {},
   "outputs": [
    {
     "output_type": "stream",
     "name": "stdout",
     "text": "23.4077097703\n23.4081065986\n23.4077097703\n23.40810659855441\n23.407709770274106\n23.40810659855441\n"
    }
   ],
   "source": [
    "zs = data[\"lidar\"].values\n",
    "mean = sum(zs)/len(zs)\n",
    "diff_square = [(z - mean)**2 for z in zs]\n",
    "\n",
    "sampling_var = sum(diff_square) / len(zs)\n",
    "unbiased_var = sum(diff_square) / (len(zs) - 1)\n",
    "\n",
    "print(sampling_var)\n",
    "print(unbiased_var)\n",
    "\n",
    "pandas_sampling_var = data[\"lidar\"].var(ddof=False)\n",
    "pandas_default_var = data[\"lidar\"].var()\n",
    "\n",
    "print(pandas_sampling_var)\n",
    "print(pandas_default_var)\n",
    "\n",
    "import numpy as np\n",
    "\n",
    "numpy_default_var = np.var(data[\"lidar\"])\n",
    "numpy_unbiased_var = np.var(data[\"lidar\"], ddof=1)\n",
    "\n",
    "print(numpy_default_var)\n",
    "print(numpy_unbiased_var)"
   ]
  },
  {
   "cell_type": "code",
   "execution_count": 8,
   "metadata": {},
   "outputs": [
    {
     "output_type": "stream",
     "name": "stdout",
     "text": "4.838151482774605\n4.83819249292072\n4.83819249292072\n"
    }
   ],
   "source": [
    "import math\n",
    "\n",
    "stddev1 = math.sqrt(sampling_var)\n",
    "stddev2 = math.sqrt(unbiased_var)\n",
    "\n",
    "pandas_stddev = data[\"lidar\"].std()\n",
    "\n",
    "print(stddev1)\n",
    "print(stddev2)\n",
    "print(pandas_stddev)"
   ]
  },
  {
   "cell_type": "code",
   "execution_count": 9,
   "metadata": {},
   "outputs": [
    {
     "output_type": "execute_result",
     "data": {
      "text/plain": "        211   210   208   209   212   207   213   206   214   205 ...   197  \\\nlidar  4409  4355  4261  4228  4201  3920  3897  3674  3572  3225 ...    84   \n\n       196  223  224  226  195  194  193  227  229  \nlidar   59   55   32   15   13   10    4    3    1  \n\n[1 rows x 35 columns]",
      "text/html": "<div>\n<style scoped>\n    .dataframe tbody tr th:only-of-type {\n        vertical-align: middle;\n    }\n\n    .dataframe tbody tr th {\n        vertical-align: top;\n    }\n\n    .dataframe thead th {\n        text-align: right;\n    }\n</style>\n<table border=\"1\" class=\"dataframe\">\n  <thead>\n    <tr style=\"text-align: right;\">\n      <th></th>\n      <th>211</th>\n      <th>210</th>\n      <th>208</th>\n      <th>209</th>\n      <th>212</th>\n      <th>207</th>\n      <th>213</th>\n      <th>206</th>\n      <th>214</th>\n      <th>205</th>\n      <th>...</th>\n      <th>197</th>\n      <th>196</th>\n      <th>223</th>\n      <th>224</th>\n      <th>226</th>\n      <th>195</th>\n      <th>194</th>\n      <th>193</th>\n      <th>227</th>\n      <th>229</th>\n    </tr>\n  </thead>\n  <tbody>\n    <tr>\n      <th>lidar</th>\n      <td>4409</td>\n      <td>4355</td>\n      <td>4261</td>\n      <td>4228</td>\n      <td>4201</td>\n      <td>3920</td>\n      <td>3897</td>\n      <td>3674</td>\n      <td>3572</td>\n      <td>3225</td>\n      <td>...</td>\n      <td>84</td>\n      <td>59</td>\n      <td>55</td>\n      <td>32</td>\n      <td>15</td>\n      <td>13</td>\n      <td>10</td>\n      <td>4</td>\n      <td>3</td>\n      <td>1</td>\n    </tr>\n  </tbody>\n</table>\n<p>1 rows × 35 columns</p>\n</div>"
     },
     "metadata": {},
     "execution_count": 9
    }
   ],
   "source": [
    "freqs = pd.DataFrame(data[\"lidar\"].value_counts())\n",
    "freqs.transpose()"
   ]
  },
  {
   "cell_type": "code",
   "execution_count": 10,
   "metadata": {},
   "outputs": [
    {
     "output_type": "execute_result",
     "data": {
      "text/plain": "               211          210          208          209          212  \\\nlidar  4409.000000  4355.000000  4261.000000  4228.000000  4201.000000   \nprobs     0.074744     0.073829     0.072235     0.071676     0.071218   \n\n               207          213          206          214          205  \\\nlidar  3920.000000  3897.000000  3674.000000  3572.000000  3225.000000   \nprobs     0.066454     0.066064     0.062284     0.060555     0.054672   \n\n         ...           197     196        223        224        226       195  \\\nlidar    ...     84.000000  59.000  55.000000  32.000000  15.000000  13.00000   \nprobs    ...      0.001424   0.001   0.000932   0.000542   0.000254   0.00022   \n\n            194       193       227       229  \nlidar  10.00000  4.000000  3.000000  1.000000  \nprobs   0.00017  0.000068  0.000051  0.000017  \n\n[2 rows x 35 columns]",
      "text/html": "<div>\n<style scoped>\n    .dataframe tbody tr th:only-of-type {\n        vertical-align: middle;\n    }\n\n    .dataframe tbody tr th {\n        vertical-align: top;\n    }\n\n    .dataframe thead th {\n        text-align: right;\n    }\n</style>\n<table border=\"1\" class=\"dataframe\">\n  <thead>\n    <tr style=\"text-align: right;\">\n      <th></th>\n      <th>211</th>\n      <th>210</th>\n      <th>208</th>\n      <th>209</th>\n      <th>212</th>\n      <th>207</th>\n      <th>213</th>\n      <th>206</th>\n      <th>214</th>\n      <th>205</th>\n      <th>...</th>\n      <th>197</th>\n      <th>196</th>\n      <th>223</th>\n      <th>224</th>\n      <th>226</th>\n      <th>195</th>\n      <th>194</th>\n      <th>193</th>\n      <th>227</th>\n      <th>229</th>\n    </tr>\n  </thead>\n  <tbody>\n    <tr>\n      <th>lidar</th>\n      <td>4409.000000</td>\n      <td>4355.000000</td>\n      <td>4261.000000</td>\n      <td>4228.000000</td>\n      <td>4201.000000</td>\n      <td>3920.000000</td>\n      <td>3897.000000</td>\n      <td>3674.000000</td>\n      <td>3572.000000</td>\n      <td>3225.000000</td>\n      <td>...</td>\n      <td>84.000000</td>\n      <td>59.000</td>\n      <td>55.000000</td>\n      <td>32.000000</td>\n      <td>15.000000</td>\n      <td>13.00000</td>\n      <td>10.00000</td>\n      <td>4.000000</td>\n      <td>3.000000</td>\n      <td>1.000000</td>\n    </tr>\n    <tr>\n      <th>probs</th>\n      <td>0.074744</td>\n      <td>0.073829</td>\n      <td>0.072235</td>\n      <td>0.071676</td>\n      <td>0.071218</td>\n      <td>0.066454</td>\n      <td>0.066064</td>\n      <td>0.062284</td>\n      <td>0.060555</td>\n      <td>0.054672</td>\n      <td>...</td>\n      <td>0.001424</td>\n      <td>0.001</td>\n      <td>0.000932</td>\n      <td>0.000542</td>\n      <td>0.000254</td>\n      <td>0.00022</td>\n      <td>0.00017</td>\n      <td>0.000068</td>\n      <td>0.000051</td>\n      <td>0.000017</td>\n    </tr>\n  </tbody>\n</table>\n<p>2 rows × 35 columns</p>\n</div>"
     },
     "metadata": {},
     "execution_count": 10
    }
   ],
   "source": [
    "freqs[\"probs\"] = freqs[\"lidar\"] / len(data[\"lidar\"])\n",
    "freqs.transpose()"
   ]
  },
  {
   "cell_type": "code",
   "execution_count": 11,
   "metadata": {},
   "outputs": [
    {
     "output_type": "execute_result",
     "data": {
      "text/plain": "1.0"
     },
     "metadata": {},
     "execution_count": 11
    }
   ],
   "source": [
    "sum(freqs[\"probs\"])"
   ]
  },
  {
   "cell_type": "code",
   "execution_count": 12,
   "metadata": {},
   "outputs": [
    {
     "output_type": "display_data",
     "data": {
      "text/plain": "<Figure size 432x288 with 1 Axes>",
      "image/png": "[encoded data removed]"
     },
     "metadata": {}
    }
   ],
   "source": [
    "freqs[\"probs\"].sort_index().plot.bar()\n",
    "plt.show()"
   ]
  },
  {
   "cell_type": "code",
   "execution_count": 19,
   "metadata": {},
   "outputs": [
    {
     "output_type": "execute_result",
     "data": {
      "text/plain": "209"
     },
     "metadata": {},
     "execution_count": 19
    }
   ],
   "source": [
    "def drawing():\n",
    "    return freqs.sample(n=1, weights=\"probs\").index[0]\n",
    "\n",
    "drawing()"
   ]
  },
  {
   "cell_type": "code",
   "execution_count": 24,
   "metadata": {},
   "outputs": [
    {
     "output_type": "execute_result",
     "data": {
      "text/plain": "     lidar     probs\n204   2638  0.044721",
      "text/html": "<div>\n<style scoped>\n    .dataframe tbody tr th:only-of-type {\n        vertical-align: middle;\n    }\n\n    .dataframe tbody tr th {\n        vertical-align: top;\n    }\n\n    .dataframe thead th {\n        text-align: right;\n    }\n</style>\n<table border=\"1\" class=\"dataframe\">\n  <thead>\n    <tr style=\"text-align: right;\">\n      <th></th>\n      <th>lidar</th>\n      <th>probs</th>\n    </tr>\n  </thead>\n  <tbody>\n    <tr>\n      <th>204</th>\n      <td>2638</td>\n      <td>0.044721</td>\n    </tr>\n  </tbody>\n</table>\n</div>"
     },
     "metadata": {},
     "execution_count": 24
    }
   ],
   "source": [
    "freqs.sample(n=1, weights=\"probs\")"
   ]
  },
  {
   "cell_type": "code",
   "execution_count": 25,
   "metadata": {},
   "outputs": [
    {
     "output_type": "display_data",
     "data": {
      "text/plain": "<Figure size 432x288 with 1 Axes>",
      "image/png": "[encoded data removed]"
     },
     "metadata": {}
    }
   ],
   "source": [
    "samples = [drawing() for i in range(len(data))]\n",
    "simulated = pd.DataFrame(samples, columns=[\"lidar\"])\n",
    "p = simulated[\"lidar\"]\n",
    "p.hist(bins=max(p)-min(p), color=\"orange\", align=\"left\")\n",
    "plt.show()"
   ]
  },
  {
   "cell_type": "code",
   "execution_count": 26,
   "metadata": {},
   "outputs": [],
   "source": [
    "def p(z, mu=209.7, dev=23.4):\n",
    "    return math.exp(-(z-mu)**2/(2*dev))/math.sqrt(2*math.pi*dev)"
   ]
  },
  {
   "cell_type": "code",
   "execution_count": 28,
   "metadata": {},
   "outputs": [
    {
     "output_type": "display_data",
     "data": {
      "text/plain": "<Figure size 432x288 with 1 Axes>",
      "image/png": "[encoded data removed]"
     },
     "metadata": {}
    }
   ],
   "source": [
    "zs = range(190, 230)\n",
    "ys = [p(z) for z in zs]\n",
    "\n",
    "plt.plot(zs, ys)\n",
    "plt.show()"
   ]
  },
  {
   "cell_type": "code",
   "execution_count": 29,
   "metadata": {},
   "outputs": [
    {
     "output_type": "display_data",
     "data": {
      "text/plain": "<Figure size 432x288 with 1 Axes>",
      "image/png": "[encoded data removed]"
     },
     "metadata": {}
    }
   ],
   "source": [
    "def prob(z, width=0.5):\n",
    "    return width * (p(z - width) + p(z + width))\n",
    "\n",
    "zs = range(190, 230)\n",
    "ys = [prob(z) for z in zs]\n",
    "\n",
    "plt.bar(zs, ys, color=\"red\", alpha=0.3)\n",
    "f = freqs[\"probs\"].sort_index()\n",
    "plt.bar(f.index, f.values, color=\"blue\", alpha=0.3)\n",
    "plt.show()"
   ]
  },
  {
   "cell_type": "code",
   "execution_count": null,
   "metadata": {},
   "outputs": [],
   "source": []
  }
 ],
 "metadata": {
  "kernelspec": {
   "display_name": "Python 3",
   "language": "python",
   "name": "python3"
  },
  "language_info": {
   "codemirror_mode": {
    "name": "ipython",
    "version": 3
   },
   "file_extension": ".py",
   "mimetype": "text/x-python",
   "name": "python",
   "nbconvert_exporter": "python",
   "pygments_lexer": "ipython3",
   "version": "3.6.5-final"
  }
 },
 "nbformat": 4,
 "nbformat_minor": 2
}